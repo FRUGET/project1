{
  "nbformat": 4,
  "nbformat_minor": 0,
  "metadata": {
    "colab": {
      "provenance": []
    },
    "kernelspec": {
      "name": "python3",
      "display_name": "Python 3"
    },
    "language_info": {
      "name": "python"
    }
  },
  "cells": [
    {
      "cell_type": "markdown",
      "source": [
        "# I. OOP"
      ],
      "metadata": {
        "id": "awfU0tMnOlHH"
      }
    },
    {
      "cell_type": "markdown",
      "source": [
        "1. (7б). Створіть клас Animal, додайте docstring, три атрибути, один з яких має значення за замовчуванням та два методи на свій розсуд."
      ],
      "metadata": {
        "id": "T6r88C4sOwbI"
      }
    },
    {
      "cell_type": "code",
      "source": [
        "class Animal:\n",
        "    \"\"\"\n",
        "    Class Animal\n",
        "    \"\"\"\n",
        "\n",
        "    def __init__(self, name, age, species='Unknown'):\n",
        "        self.name = name\n",
        "        self.age = age\n",
        "        self.species = species\n",
        "\n",
        "    def display_info(self):\n",
        "        \"\"\"\n",
        "        Display info about animal\n",
        "        \"\"\"\n",
        "        print(f\"Name: {self.name}, Age: {self.age}, Species: {self.species}\")\n",
        "\n",
        "    def speak(self):\n",
        "        \"\"\"\n",
        "        Display message what animal say\n",
        "        \"\"\"\n",
        "        print(f\"{self.name} speak.\")"
      ],
      "metadata": {
        "id": "fWXuCGV8Oqrn"
      },
      "execution_count": 2,
      "outputs": []
    },
    {
      "cell_type": "markdown",
      "source": [
        "1.1. (5б). Створіть два обʼєкти цього класу. На одному обʼєкті отримайте значення його атрибуту, а на іншому викличте один з його методів."
      ],
      "metadata": {
        "id": "CTu5Dt0_UKul"
      }
    },
    {
      "cell_type": "code",
      "source": [
        "cat = Animal('Lucy', 3)\n",
        "dog = Animal('John', 5)\n",
        "\n",
        "print(cat.name)\n",
        "dog.display_info()"
      ],
      "metadata": {
        "id": "nLQqAIlKUQRP",
        "colab": {
          "base_uri": "https://localhost:8080/"
        },
        "outputId": "802a633a-9f8e-42cb-fada-a1fcf358880e"
      },
      "execution_count": 5,
      "outputs": [
        {
          "output_type": "stream",
          "name": "stdout",
          "text": [
            "Lucy\n",
            "Name: John, Age: 5, Species: Unknown\n"
          ]
        }
      ]
    },
    {
      "cell_type": "markdown",
      "source": [
        "2. (9б). Створіть клас, де атрибути мають різні рівні доступу. Спробуйте отримати їхні значення та опишіть результати."
      ],
      "metadata": {
        "id": "3KKpQYcWRNgj"
      }
    },
    {
      "cell_type": "code",
      "source": [
        "class MyClass:\n",
        "    def __init__(self):\n",
        "        self.public = \"Public\"\n",
        "        self._protected = \"Protected\"\n",
        "        self.__private = \"Private\"\n",
        "\n",
        "obj = MyClass()\n",
        "\n",
        "print(obj.public)\n",
        "print(obj._protected)\n",
        "print(obj.__private)"
      ],
      "metadata": {
        "id": "PlMQmzciRM_D",
        "colab": {
          "base_uri": "https://localhost:8080/",
          "height": 245
        },
        "outputId": "50d58d4a-6aaf-4eea-d6aa-b585f9e1ad98"
      },
      "execution_count": 7,
      "outputs": [
        {
          "output_type": "stream",
          "name": "stdout",
          "text": [
            "Public\n",
            "Protected\n"
          ]
        },
        {
          "output_type": "error",
          "ename": "AttributeError",
          "evalue": "ignored",
          "traceback": [
            "\u001b[0;31m---------------------------------------------------------------------------\u001b[0m",
            "\u001b[0;31mAttributeError\u001b[0m                            Traceback (most recent call last)",
            "\u001b[0;32m<ipython-input-7-f4fe113f0188>\u001b[0m in \u001b[0;36m<cell line: 11>\u001b[0;34m()\u001b[0m\n\u001b[1;32m      9\u001b[0m \u001b[0mprint\u001b[0m\u001b[0;34m(\u001b[0m\u001b[0mobj\u001b[0m\u001b[0;34m.\u001b[0m\u001b[0mpublic\u001b[0m\u001b[0;34m)\u001b[0m\u001b[0;34m\u001b[0m\u001b[0;34m\u001b[0m\u001b[0m\n\u001b[1;32m     10\u001b[0m \u001b[0mprint\u001b[0m\u001b[0;34m(\u001b[0m\u001b[0mobj\u001b[0m\u001b[0;34m.\u001b[0m\u001b[0m_protected\u001b[0m\u001b[0;34m)\u001b[0m\u001b[0;34m\u001b[0m\u001b[0;34m\u001b[0m\u001b[0m\n\u001b[0;32m---> 11\u001b[0;31m \u001b[0mprint\u001b[0m\u001b[0;34m(\u001b[0m\u001b[0mobj\u001b[0m\u001b[0;34m.\u001b[0m\u001b[0m__private\u001b[0m\u001b[0;34m)\u001b[0m\u001b[0;34m\u001b[0m\u001b[0;34m\u001b[0m\u001b[0m\n\u001b[0m",
            "\u001b[0;31mAttributeError\u001b[0m: 'MyClass' object has no attribute '__private'"
          ]
        }
      ]
    },
    {
      "cell_type": "markdown",
      "source": [
        "В __private атрибуті видає помилку, тому що python не дає дозволу на прямий доступ до приватних атрибутів."
      ],
      "metadata": {
        "id": "-cqdeYW-hoYb"
      }
    },
    {
      "cell_type": "markdown",
      "source": [
        "3. (8б). Як ви розумієте термін self? Для чого використовується метод __init __?"
      ],
      "metadata": {
        "id": "iaoOLp4RRZyc"
      }
    },
    {
      "cell_type": "markdown",
      "source": [
        "self надає доступ до атрибутів та методів класу в його методах\n",
        "\\_\\_init\\_\\_ це метод, який автоматично викликається при створенні нового об'єкту"
      ],
      "metadata": {
        "id": "-yuvBRjFRlz5"
      }
    },
    {
      "cell_type": "markdown",
      "source": [
        "4. (8б). Створіть клас Фігура без атрибутів, з методом get_area для отримання площі фігури, що повертає 0 та __add __, який приймає self та other в якості аргументів, а повертає суму площин фігур self та other."
      ],
      "metadata": {
        "id": "nVectYeATZAi"
      }
    },
    {
      "cell_type": "code",
      "source": [
        "class Figure:\n",
        "    def get_area(self):\n",
        "        return 0\n",
        "\n",
        "    def __add__(self, other):\n",
        "        return self.get_area() + other.get_area()"
      ],
      "metadata": {
        "id": "EYvcpzHbRZLz"
      },
      "execution_count": 9,
      "outputs": []
    },
    {
      "cell_type": "markdown",
      "source": [
        "5. (11б). Створіть 2 дочірніх класи від Фігури: Трикутник та Коло, які мають атрибути, необхідні для розрахунку площин. Визначте метод get_area в кожному з них так, щоби вони розраховували площу в залежності від формули для кожного типу фігури. Створіть обʼєкт класу Трикутник та обʼєкт класу Коло. Виконайте операцію суми за допомогою оператора + між ними."
      ],
      "metadata": {
        "id": "PheOkqlCg9SD"
      }
    },
    {
      "cell_type": "code",
      "source": [
        "class Triangle(Figure):\n",
        "  def __init__(self, base, height):\n",
        "    self.base = base\n",
        "    self.height = height\n",
        "\n",
        "  def get_area(self):\n",
        "    return 0.5 * self.base * self.height\n",
        "\n",
        "class Circle(Figure):\n",
        "  def __init__(self, radius):\n",
        "    self.radius = radius\n",
        "\n",
        "  def get_area(self):\n",
        "    return 3.14 * (self.radius ** 2)\n",
        "\n",
        "triangle = Triangle(4, 5)\n",
        "circle = Circle(5)\n",
        "\n",
        "print(f\"Sum: {triangle+circle}\")"
      ],
      "metadata": {
        "id": "7Jo8-rqlhNSw",
        "colab": {
          "base_uri": "https://localhost:8080/"
        },
        "outputId": "d95d0a5c-ec99-4309-e542-e38baf854c5c"
      },
      "execution_count": 10,
      "outputs": [
        {
          "output_type": "stream",
          "name": "stdout",
          "text": [
            "Sum: 88.5\n"
          ]
        }
      ]
    },
    {
      "cell_type": "markdown",
      "source": [
        "6. (7б). Продемонструйте різницю між isinstance та issubclass."
      ],
      "metadata": {
        "id": "WxW51aGIhN2q"
      }
    },
    {
      "cell_type": "code",
      "source": [
        "class Class:\n",
        "  pass\n",
        "\n",
        "obj = Class()\n",
        "print(isinstance(obj, Class))"
      ],
      "metadata": {
        "id": "E-QybeYShdAu",
        "colab": {
          "base_uri": "https://localhost:8080/"
        },
        "outputId": "984cf4b0-6b19-4d84-ee1b-483f0206b5ff"
      },
      "execution_count": 11,
      "outputs": [
        {
          "output_type": "stream",
          "name": "stdout",
          "text": [
            "True\n"
          ]
        }
      ]
    },
    {
      "cell_type": "code",
      "source": [
        "class subClass(Class):\n",
        "  pass\n",
        "\n",
        "print(issubclass(Class, subClass))\n",
        "print(issubclass(subClass, Class))"
      ],
      "metadata": {
        "colab": {
          "base_uri": "https://localhost:8080/"
        },
        "id": "5Gj6ADErlci8",
        "outputId": "fc40a002-b6d3-44fe-b6c7-03c9db16083a"
      },
      "execution_count": 13,
      "outputs": [
        {
          "output_type": "stream",
          "name": "stdout",
          "text": [
            "False\n",
            "True\n"
          ]
        }
      ]
    },
    {
      "cell_type": "markdown",
      "source": [
        "7. (16б). Створіть клас BankAccount з приватними атрибутами balance та account_number.\n",
        "Реалізуйте методи поповнення та зняття коштів, забезпечивши належну інкапсуляцію. Підказка: використовуйте декоратори getter та setter."
      ],
      "metadata": {
        "id": "Mrup7UL3hfC3"
      }
    },
    {
      "cell_type": "code",
      "source": [],
      "metadata": {
        "id": "Vi8gw9G6i37Y"
      },
      "execution_count": null,
      "outputs": []
    },
    {
      "cell_type": "markdown",
      "source": [
        "8. (16б). Створіть клас Library, який містить список об'єктів типу Book.\n",
        "Реалізуйте методи для додавання книги, видалення книги та відображення списку книг."
      ],
      "metadata": {
        "id": "q1mgZYuFjB_q"
      }
    },
    {
      "cell_type": "code",
      "source": [
        "class Library:\n",
        "    def __init__(self):\n",
        "        self.books = []\n",
        "\n",
        "    def add_book(self, book):\n",
        "        if isinstance(book, Book):\n",
        "            self.books.append(book)\n",
        "        else:\n",
        "            print(\"Object not a book\")\n",
        "\n",
        "    def display_books(self):\n",
        "        for book in self.books:\n",
        "            print(f\"Title: {book.title}, Author: {book.author}\")\n",
        "        print('\\n')\n",
        "\n",
        "    def remove_book(self, book):\n",
        "      if book in self.books:\n",
        "          self.books.remove(book)\n",
        "      else:\n",
        "          print(\"Book not found\")\n",
        "\n",
        "class Book:\n",
        "    def __init__(self, title, author):\n",
        "        self.title = title\n",
        "        self.author = author\n",
        "\n",
        "library = Library()\n",
        "book1 = Book('Example title', 'Example author')\n",
        "book2 = Book('Example title2', 'Example author2')\n",
        "library.add_book(book1)\n",
        "library.add_book(book2)\n",
        "library.display_books()\n",
        "library.remove_book(book1)\n",
        "library.display_books()"
      ],
      "metadata": {
        "id": "z1W8DINmjQQj",
        "colab": {
          "base_uri": "https://localhost:8080/"
        },
        "outputId": "0a8c995c-f0d5-4a2f-9e41-856d41d8f177"
      },
      "execution_count": 38,
      "outputs": [
        {
          "output_type": "stream",
          "name": "stdout",
          "text": [
            "Title: Example title, Author: Example author\n",
            "Title: Example title2, Author: Example author2\n",
            "\n",
            "\n",
            "Title: Example title2, Author: Example author2\n",
            "\n",
            "\n"
          ]
        }
      ]
    },
    {
      "cell_type": "markdown",
      "source": [
        "9. (13б). Створіть клас Person з атрибутами name та age.\n",
        "Створіть ще один клас Employee з такими атрибутами, як department та salary.\n",
        "Створіть клас Manager, який успадковує обидва класи Person та Employee. Продемонструйте використання множинної спадковості, створивши обʼєкт класу Manager та отримавши mro для цього класу."
      ],
      "metadata": {
        "id": "cCzctafPjwiZ"
      }
    },
    {
      "cell_type": "code",
      "source": [
        "class Person:\n",
        "    def __init__(self, name, age):\n",
        "        self.name = name\n",
        "        self.age = age\n",
        "\n",
        "class Employee:\n",
        "    def __init__(self, department, salary):\n",
        "        self.department = department\n",
        "        self.salary = salary\n",
        "\n",
        "class Manager(Person, Employee):\n",
        "    def __init__(self, name, age, department, salary):\n",
        "        Person.__init__(self, name, age)\n",
        "        Employee.__init__(self, department, salary)\n",
        "\n",
        "manager = Manager('John', 35, 'Python Developer', 50000)\n",
        "print(Manager.mro())"
      ],
      "metadata": {
        "id": "tZQ8-tfPk1k5",
        "colab": {
          "base_uri": "https://localhost:8080/"
        },
        "outputId": "9e9a3ae8-2e26-4171-d192-bc90f9c3c3fb"
      },
      "execution_count": 15,
      "outputs": [
        {
          "output_type": "stream",
          "name": "stdout",
          "text": [
            "[<class '__main__.Manager'>, <class '__main__.Person'>, <class '__main__.Employee'>, <class 'object'>]\n"
          ]
        }
      ]
    },
    {
      "cell_type": "markdown",
      "source": [
        "# Вітаю! Ви велика(ий) молодець, що впоралась(вся). Похваліть себе та побалуйте чимось приємним. Я Вами пишаюся."
      ],
      "metadata": {
        "id": "dzH9DdFTOxCC"
      }
    }
  ]
}