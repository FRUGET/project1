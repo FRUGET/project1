{
  "nbformat": 4,
  "nbformat_minor": 0,
  "metadata": {
    "colab": {
      "provenance": []
    },
    "kernelspec": {
      "name": "python3",
      "display_name": "Python 3"
    },
    "language_info": {
      "name": "python"
    }
  },
  "cells": [
    {
      "cell_type": "markdown",
      "source": [
        "# I. Рядки (String)."
      ],
      "metadata": {
        "id": "EVJ7AflwxrZi"
      }
    },
    {
      "cell_type": "markdown",
      "source": [
        "1. Створити пустий рядок двома різними способами."
      ],
      "metadata": {
        "id": "_s5ECzz9zE61"
      }
    },
    {
      "cell_type": "code",
      "execution_count": 1,
      "metadata": {
        "id": "HsDOUUMWxo6D"
      },
      "outputs": [],
      "source": [
        "str1 = \"\"\n",
        "str2 = str()"
      ]
    },
    {
      "cell_type": "markdown",
      "source": [
        "2. Створити рядок з апострофом."
      ],
      "metadata": {
        "id": "4Bdn9J3MzLf_"
      }
    },
    {
      "cell_type": "code",
      "source": [
        "str3 = 'Hello\\' world!'"
      ],
      "metadata": {
        "id": "OjyFU0iKzPc2"
      },
      "execution_count": 2,
      "outputs": []
    },
    {
      "cell_type": "markdown",
      "source": [
        "3. Створити рядок з символом переходу на новий рядок та роздрукувати його в консоль."
      ],
      "metadata": {
        "id": "qj7LjXFazbx1"
      }
    },
    {
      "cell_type": "code",
      "source": [
        "str41 = \"Hello \\nworld!\"\n",
        "print(str41)"
      ],
      "metadata": {
        "id": "K9J-tLXczmyo",
        "colab": {
          "base_uri": "https://localhost:8080/"
        },
        "outputId": "31f54d20-ea64-4478-9355-815e72a25148"
      },
      "execution_count": 6,
      "outputs": [
        {
          "output_type": "stream",
          "name": "stdout",
          "text": [
            "Hello \n",
            "world!\n"
          ]
        }
      ]
    },
    {
      "cell_type": "markdown",
      "source": [
        "4. Зробити рядок з завдання №3 \"сирим\"(raw), вивести в консоль та порівняти з результатом в попередному завданні."
      ],
      "metadata": {
        "id": "XEYGh-BGzzfD"
      }
    },
    {
      "cell_type": "code",
      "source": [
        "print(str41)\n",
        "str4 = r\"Hello \\nworld!\"\n",
        "print(str4)\n",
        "print(str41 == str4)"
      ],
      "metadata": {
        "id": "0Mb7qYqgzntd",
        "colab": {
          "base_uri": "https://localhost:8080/"
        },
        "outputId": "58ba95b3-1b7a-4bf3-8887-8ebe7f8d175e"
      },
      "execution_count": 7,
      "outputs": [
        {
          "output_type": "stream",
          "name": "stdout",
          "text": [
            "Hello \n",
            "world!\n",
            "Hello \\nworld!\n",
            "False\n"
          ]
        }
      ]
    },
    {
      "cell_type": "markdown",
      "source": [
        "*місце для коментарів щодо результатів порівняння"
      ],
      "metadata": {
        "id": "xLM76Cnfz3T_"
      }
    },
    {
      "cell_type": "markdown",
      "source": [
        "5. Створити змінну, що буде посилатися на Ваше прізвище латинкою. Створити форматований рядок, який буде мати вигляд \"My surname is ______\", де на місці нижніх підкреслень буде Ваше прізвище зі змінної."
      ],
      "metadata": {
        "id": "bg_d8wM4z8dS"
      }
    },
    {
      "cell_type": "code",
      "source": [
        "surname = \"Moroz\"\n",
        "print(f\"My surname is {surname}\")"
      ],
      "metadata": {
        "id": "Cr847KKpz7zF",
        "colab": {
          "base_uri": "https://localhost:8080/"
        },
        "outputId": "56223afe-a971-446d-b5e8-c7bed8350cbe"
      },
      "execution_count": 8,
      "outputs": [
        {
          "output_type": "stream",
          "name": "stdout",
          "text": [
            "My surname is Moroz\n"
          ]
        }
      ]
    },
    {
      "cell_type": "markdown",
      "source": [
        "6. Маючи рядок \"My dog is crazy.\" перетворити його на список [\"my\", \"dog\", \"is\", \"crazy\"]"
      ],
      "metadata": {
        "id": "1Nc6RqvQ0hxU"
      }
    },
    {
      "cell_type": "code",
      "source": [
        "string = \"My dog is crazy\"\n",
        "list_string = string.split()\n",
        "print(list_string)"
      ],
      "metadata": {
        "id": "dGU4MImR063l",
        "colab": {
          "base_uri": "https://localhost:8080/"
        },
        "outputId": "3d827afa-537d-4672-84f3-a469c50d7035"
      },
      "execution_count": 9,
      "outputs": [
        {
          "output_type": "stream",
          "name": "stdout",
          "text": [
            "['My', 'dog', 'is', 'crazy']\n"
          ]
        }
      ]
    },
    {
      "cell_type": "markdown",
      "source": [
        "# II. Множини (Set)."
      ],
      "metadata": {
        "id": "rW_I9dt3x6cW"
      }
    },
    {
      "cell_type": "markdown",
      "source": [
        "7. Створити множину без елементів. Після цого за допомогою методу додайте кілька різних елементів до множини. Чи множини є змінним типом даних?"
      ],
      "metadata": {
        "id": "zNjRLHLw1Bgg"
      }
    },
    {
      "cell_type": "code",
      "source": [
        "set_var = set(())\n",
        "set_var.add(45)\n",
        "set_var.add(\"hello\")\n",
        "set_var.add(True)\n",
        "print(set_var)"
      ],
      "metadata": {
        "id": "CB72VZWZ1A7c",
        "colab": {
          "base_uri": "https://localhost:8080/"
        },
        "outputId": "ed5bef16-b2e3-4ecb-b989-b73f3685992e"
      },
      "execution_count": 23,
      "outputs": [
        {
          "output_type": "stream",
          "name": "stdout",
          "text": [
            "{True, 'hello', 45}\n"
          ]
        }
      ]
    },
    {
      "cell_type": "markdown",
      "source": [
        "*місце для відповіді"
      ],
      "metadata": {
        "id": "tqxtcfgK4Wkx"
      }
    },
    {
      "cell_type": "markdown",
      "source": [
        "8. Створити множину, маючи список my_list = [1, 1, 2, 67, 67, 8, 9]. Пояснити, чому \"зникли\" деякі елементи."
      ],
      "metadata": {
        "id": "gHpT0Zw_1HEF"
      }
    },
    {
      "cell_type": "code",
      "source": [
        "my_list = [1, 1, 2, 67, 67, 8, 9]\n",
        "my_list = set(my_list)\n",
        "print(my_list)"
      ],
      "metadata": {
        "id": "U5YnFsPp1OCU",
        "colab": {
          "base_uri": "https://localhost:8080/"
        },
        "outputId": "58452de1-f0da-42ef-e770-81d362e385ee"
      },
      "execution_count": 24,
      "outputs": [
        {
          "output_type": "stream",
          "name": "stdout",
          "text": [
            "{1, 2, 67, 8, 9}\n"
          ]
        }
      ]
    },
    {
      "cell_type": "markdown",
      "source": [
        "Деякі елементи зникли тому що функція set видаляє символи які повторюються"
      ],
      "metadata": {
        "id": "3a0pUmM6UFYt"
      }
    },
    {
      "cell_type": "markdown",
      "source": [
        "9. Створіть дві множини. Продемонстуйте над ними операції: обʼєднання, різниці, пересічі та симетричної різниці. Використовуйте методи, що не змінюють множини, а створюють нові."
      ],
      "metadata": {
        "id": "SRMkGizS1UwY"
      }
    },
    {
      "cell_type": "code",
      "source": [
        "set1 = set((1, 2, 3, 4, 5, 6))\n",
        "set2 = set((6, 7, 8, 9, 10, 10))\n",
        "print(set2.difference(set1))\n",
        "print(set2.symmetric_difference(set1))\n",
        "print(set2.intersection(set1))\n",
        "print(set1.union(set2))"
      ],
      "metadata": {
        "id": "pj5ta1CS2LAa",
        "colab": {
          "base_uri": "https://localhost:8080/"
        },
        "outputId": "c9cab10c-4373-4e8c-92ab-2e4f9d6b2832"
      },
      "execution_count": 38,
      "outputs": [
        {
          "output_type": "stream",
          "name": "stdout",
          "text": [
            "{8, 9, 10, 7}\n",
            "{1, 2, 3, 4, 5, 7, 8, 9, 10}\n",
            "{6}\n",
            "{1, 2, 3, 4, 5, 6, 7, 8, 9, 10}\n"
          ]
        }
      ]
    },
    {
      "cell_type": "markdown",
      "source": [
        "10. Створіть множину з пʼяти елементів. За допомогою спеціального методу, вилучіть три елементи один за одним з множини. Чи може гарантуватися порядок елементів у множинах?"
      ],
      "metadata": {
        "id": "ECo4rGAW2e4S"
      }
    },
    {
      "cell_type": "code",
      "source": [
        "set_var = set((1, 2, 3, 4, 5))\n",
        "set_var.pop()\n",
        "set_var.pop()\n",
        "set_var.pop()\n",
        "set_var"
      ],
      "metadata": {
        "id": "tCoJigA-4Ryd",
        "colab": {
          "base_uri": "https://localhost:8080/"
        },
        "outputId": "d9cb6bdc-22f3-4f2c-d4e1-c18543eebdbd"
      },
      "execution_count": 56,
      "outputs": [
        {
          "output_type": "execute_result",
          "data": {
            "text/plain": [
              "{4, 5}"
            ]
          },
          "metadata": {},
          "execution_count": 56
        }
      ]
    },
    {
      "cell_type": "markdown",
      "source": [
        "*місце для відповіді"
      ],
      "metadata": {
        "id": "t7f5oKmP2qum"
      }
    },
    {
      "cell_type": "markdown",
      "source": [
        "# III. Словники (Dictionary)."
      ],
      "metadata": {
        "id": "kWc8gkzTx7Ea"
      }
    },
    {
      "cell_type": "markdown",
      "source": [
        "11. Створіть пустий словник двома способами."
      ],
      "metadata": {
        "id": "FHIRdwck2uji"
      }
    },
    {
      "cell_type": "code",
      "source": [
        "dict1 = dict()\n",
        "dict2 = {}"
      ],
      "metadata": {
        "id": "sF2WCzwJ2yDq"
      },
      "execution_count": 78,
      "outputs": []
    },
    {
      "cell_type": "markdown",
      "source": [
        "12. До одного зі словників вище додайте чотири пари елементів такі, щоб їхні ключі були різних типів."
      ],
      "metadata": {
        "id": "i5FLwj-B2ybQ"
      }
    },
    {
      "cell_type": "code",
      "source": [
        "dict1[\"age\"] = 19\n",
        "dict1[\"name\"] = \"Vlad\"\n",
        "dict2[\"surname\"] = \"Moroz\"\n",
        "dict2[\"universuty\"] = \"DUIKT\"\n",
        "dict1, dict2"
      ],
      "metadata": {
        "id": "lqunD0EZ2_Vg",
        "colab": {
          "base_uri": "https://localhost:8080/"
        },
        "outputId": "0605db12-ad20-4617-f854-d6ab08e78d8d"
      },
      "execution_count": 95,
      "outputs": [
        {
          "output_type": "execute_result",
          "data": {
            "text/plain": [
              "({'age': 19, 'name': 'Vlad'}, {'surname': 'Moroz', 'universuty': 'DUIKT'})"
            ]
          },
          "metadata": {},
          "execution_count": 95
        }
      ]
    },
    {
      "cell_type": "markdown",
      "source": [
        "*чи може список бути ключем? а значенням? чому?"
      ],
      "metadata": {
        "id": "XOD2Aaj13Bqx"
      }
    },
    {
      "cell_type": "markdown",
      "source": [
        "13. Використовуючи той самий словник, отримайте по ключу будь-яке значення з наявних. Тепер видаліть цю пару ключ-значення. Спробуйте знову отримати значення по цьому ж ключу. Використовуючи спеціальний метод, виправте помилку."
      ],
      "metadata": {
        "id": "9Tjhmuf73KE6"
      }
    },
    {
      "cell_type": "code",
      "source": [
        "print(dict1.get(\"name\"))\n",
        "dict1.pop(\"name\")\n",
        "print(dict1.get(\"name\"))"
      ],
      "metadata": {
        "id": "cNMenuGQ3JMa",
        "colab": {
          "base_uri": "https://localhost:8080/"
        },
        "outputId": "392cdfc8-c719-4ec7-96a5-de9df181a620"
      },
      "execution_count": 96,
      "outputs": [
        {
          "output_type": "stream",
          "name": "stdout",
          "text": [
            "Vlad\n",
            "None\n"
          ]
        }
      ]
    },
    {
      "cell_type": "markdown",
      "source": [
        "# IV. Оператори порівняння та логічні оператори. Умови."
      ],
      "metadata": {
        "id": "SLtQabwUx7Xc"
      }
    },
    {
      "cell_type": "markdown",
      "source": [
        "14. Створіть цілочисленну змінну зі своїм щасливим або улюбленим числом. Напишіть код, який би автоматизовував наступну задачу.\n",
        "\n",
        "Якщо число парне, помножте його на 2 та виведіть результат на екран.\n",
        "\n",
        "Але якщо число непарне, помножте його на 3 та додайте 1 і виведіть на екран.\n"
      ],
      "metadata": {
        "id": "SrehzC-n3-ln"
      }
    },
    {
      "cell_type": "code",
      "source": [
        "lucky_number = 712\n",
        "if lucky_number % 2 == 0:\n",
        "  print(lucky_number * 2)\n",
        "else:\n",
        "  print(lucky_number * 3 + 1)"
      ],
      "metadata": {
        "id": "g0cchKGl3-Gq",
        "colab": {
          "base_uri": "https://localhost:8080/"
        },
        "outputId": "4e9983ed-3c82-4627-bda6-36080be51dc8"
      },
      "execution_count": 97,
      "outputs": [
        {
          "output_type": "stream",
          "name": "stdout",
          "text": [
            "1424\n"
          ]
        }
      ]
    },
    {
      "cell_type": "markdown",
      "source": [
        "15. Створіть рядок зі своїм імʼям латинкою. Напишіть код, який би автоматизовував наступну задачу.\n",
        "\n",
        "Якщо в імені є літера \"а\"\n",
        " або \"i\", Виведіть на екран повідомлення \"A or I is in the name\".\n",
        "\n",
        "\n",
        "\n",
        "Якщо в імені є літери \"o\" та \"n\", Виведіть на екран повідомлення \"O and N is in the name\".\n",
        "\n",
        "Також якщо в імені немає літери \"о\", але є \"n\", Виведіть на екран повідомлення \"Only N is in the name\".\n",
        "\n",
        "В решті випадків виведіть на екран повідомлення \"There is no N in the name, but there might be O\".\n",
        "\n",
        "Зверніть увагу, що, наприклад, для імені \"Antonina\" буде виведено два повідомлення."
      ],
      "metadata": {
        "id": "PRXLVdU26E5Z"
      }
    },
    {
      "cell_type": "code",
      "source": [
        "name = \"Antonina\"\n",
        "letter_a_or_i = False\n",
        "letter_n = False\n",
        "letter_o = False\n",
        "name = name.lower()\n",
        "\n",
        "for i in range(len(name)):\n",
        "  if (name[i] == 'a' or name[i] == 'i') and letter_a_or_i == False:\n",
        "    print(\"A or I is in the name\")\n",
        "    letter_a_or_i = True\n",
        "  if (name[i] == 'o') and (letter_n == False and letter_o == False):\n",
        "    for e in range(len(name)):\n",
        "      if name[e] == 'n':\n",
        "        print(\"O and N is in the name\")\n",
        "        letter_n = True\n",
        "        letter_o = True\n",
        "        break\n",
        "if name[i] == 'n' and letter_n == False:\n",
        "  for j in range(len(name)):\n",
        "    if name[j] != 'o':\n",
        "      print(\"Only N is in the name\")\n",
        "      letter_n = True\n",
        "      break\n",
        "if name[i] != 'n' and name[i] == 'o' and letter_n == False and letter_o == False:\n",
        "  print(\"There is no N in the name, but there might be O\")"
      ],
      "metadata": {
        "id": "bQlf4ZUh6Pdz",
        "colab": {
          "base_uri": "https://localhost:8080/"
        },
        "outputId": "792c73f5-a519-4182-8c61-06ef4697dcca"
      },
      "execution_count": 132,
      "outputs": [
        {
          "output_type": "stream",
          "name": "stdout",
          "text": [
            "A or I is in the name\n",
            "O and N is in the name\n"
          ]
        }
      ]
    },
    {
      "cell_type": "markdown",
      "source": [
        "# Вітаю! Ви велика(ий) молодець, що впоралась(вся). Похваліть себе та побалуйте чимось приємним. Я Вами пишаюся."
      ],
      "metadata": {
        "id": "xOZP0hkx6cCr"
      }
    }
  ]
}