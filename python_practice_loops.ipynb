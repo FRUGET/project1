{
  "nbformat": 4,
  "nbformat_minor": 0,
  "metadata": {
    "colab": {
      "provenance": []
    },
    "kernelspec": {
      "name": "python3",
      "display_name": "Python 3"
    },
    "language_info": {
      "name": "python"
    }
  },
  "cells": [
    {
      "cell_type": "markdown",
      "source": [
        "# I. range."
      ],
      "metadata": {
        "id": "bhnw_OBiped2"
      }
    },
    {
      "cell_type": "markdown",
      "source": [
        "1. (4 бали) Створіть обʼєкт типу range, який буде містити послідовність цілих чисел від 0 до 9 включно. Виведіть його довжину (кількість значень)."
      ],
      "metadata": {
        "id": "cS4sWGwctkLH"
      }
    },
    {
      "cell_type": "code",
      "source": [
        "n = range(10)\n",
        "print(len(n))"
      ],
      "metadata": {
        "id": "1XFhN5gVte4X",
        "colab": {
          "base_uri": "https://localhost:8080/"
        },
        "outputId": "ed1e41a8-beab-49fd-a704-2a47318058ad"
      },
      "execution_count": 2,
      "outputs": [
        {
          "output_type": "stream",
          "name": "stdout",
          "text": [
            "10\n"
          ]
        }
      ]
    },
    {
      "cell_type": "markdown",
      "source": [
        "2. (5 балів) Створіть обʼєкт типу range, який буде містити послідовність цілих чисел (16, 13, 10, 7, 4, 1, -2, -5)"
      ],
      "metadata": {
        "id": "VZ0Dh0m-t9tM"
      }
    },
    {
      "cell_type": "code",
      "execution_count": 4,
      "metadata": {
        "id": "YavF1Agaoe8J",
        "colab": {
          "base_uri": "https://localhost:8080/"
        },
        "outputId": "f2f3e6c0-30ae-4347-8203-d97d815e2fc0"
      },
      "outputs": [
        {
          "output_type": "stream",
          "name": "stdout",
          "text": [
            "16 13 10 7 4 1 -2 -5\n"
          ]
        }
      ],
      "source": [
        "n = range(16, -6, -3)\n",
        "print(*n)"
      ]
    },
    {
      "cell_type": "markdown",
      "source": [
        "3. (4 бали) Створіть змінну зі значенням цілого типу. Перевірте, чи вона належить проміжку від 49 до 100 включно. Як ви гадаєте, для чого використовуються range?"
      ],
      "metadata": {
        "id": "nBmE3_nMuavj"
      }
    },
    {
      "cell_type": "code",
      "source": [
        "n = int(input())\n",
        "\n",
        "if n in range(49, 101):\n",
        "  print(f\"Number {n} belongs to the interval\")\n",
        "else:\n",
        "  print(f\"Number {n} does not belong to the interval\")"
      ],
      "metadata": {
        "id": "5KmgBmOIuku4",
        "colab": {
          "base_uri": "https://localhost:8080/"
        },
        "outputId": "14d0b990-2956-42c1-844c-0e0b7ba51102"
      },
      "execution_count": 6,
      "outputs": [
        {
          "output_type": "stream",
          "name": "stdout",
          "text": [
            "3\n",
            "Число 3 не належить проміжку\n"
          ]
        }
      ]
    },
    {
      "cell_type": "markdown",
      "source": [
        "range використовується для створення послідовностей чисел, які можна використовувати у циклах, ітераціях та інших ситуаціях, де потрібна послідовність чисел"
      ],
      "metadata": {
        "id": "hZHtKQUJxDxj"
      }
    },
    {
      "cell_type": "markdown",
      "source": [
        "# II. Comprehensions."
      ],
      "metadata": {
        "id": "56FjMkPatTD6"
      }
    },
    {
      "cell_type": "markdown",
      "source": [
        "4. (6 балів) Створіть множину (set), використовуючи range та set comprehension."
      ],
      "metadata": {
        "id": "AZyfyNfYvOyq"
      }
    },
    {
      "cell_type": "code",
      "source": [
        "n = set(range(0, 10))\n",
        "print(*n)"
      ],
      "metadata": {
        "id": "DE8oNYSUvNfR",
        "colab": {
          "base_uri": "https://localhost:8080/"
        },
        "outputId": "2713fe69-6eef-484e-e57d-097ab1c581cd"
      },
      "execution_count": 8,
      "outputs": [
        {
          "output_type": "stream",
          "name": "stdout",
          "text": [
            "0 1 2 3 4 5 6 7 8 9\n"
          ]
        }
      ]
    },
    {
      "cell_type": "markdown",
      "source": [
        "5. (8 балів) Створіть словник, використовуючи dict comprehension, що містить if else. Коли слід використовувати comprehensions, а коли їх слід уникати?"
      ],
      "metadata": {
        "id": "5IsyYnolvWxJ"
      }
    },
    {
      "cell_type": "code",
      "source": [
        "numbers = [1, 2, 3, 4, 5, 6, 7]\n",
        "numbers_dict = {x: \"even\" if x % 2 == 0 else \"odd\" for x in numbers}\n",
        "print(numbers_dict)"
      ],
      "metadata": {
        "id": "PTLiarj4vWVu",
        "colab": {
          "base_uri": "https://localhost:8080/"
        },
        "outputId": "256ad56b-7636-4162-d305-30c63c5c07ba"
      },
      "execution_count": 10,
      "outputs": [
        {
          "output_type": "stream",
          "name": "stdout",
          "text": [
            "{1: 'парне', 2: 'непарне', 3: 'парне', 4: 'непарне', 5: 'парне', 6: 'непарне', 7: 'парне'}\n"
          ]
        }
      ]
    },
    {
      "cell_type": "markdown",
      "source": [
        "**місце для відповіді*"
      ],
      "metadata": {
        "id": "PcwgYcjdxYPA"
      }
    },
    {
      "cell_type": "markdown",
      "source": [
        "6. (7 балів) Створіть список з рядками та запишіть його у змінну. Створіть ще один список на основі попереднього, де кожен рядок буде містити тільки три перших заглавних символи. Наприклад: ['hello', 'i', 'dont', 'care'] -> ['HEL', 'I', 'DON', 'CAR']"
      ],
      "metadata": {
        "id": "xPVEDwk6vfhU"
      }
    },
    {
      "cell_type": "code",
      "source": [
        "my_list = ['hello', 'i', 'dont', 'care']\n",
        "new_list = []\n",
        "\n",
        "for item in my_list:\n",
        "  new_list.append(str(item[:3]).upper())\n",
        "print(new_list)"
      ],
      "metadata": {
        "id": "l1FAM69Owi7q",
        "colab": {
          "base_uri": "https://localhost:8080/"
        },
        "outputId": "875ad188-2d4f-44ba-a10f-7351d0ffc113"
      },
      "execution_count": 20,
      "outputs": [
        {
          "output_type": "stream",
          "name": "stdout",
          "text": [
            "['HEL', 'I', 'DON', 'CAR']\n"
          ]
        }
      ]
    },
    {
      "cell_type": "markdown",
      "source": [
        "# III. Цикли."
      ],
      "metadata": {
        "id": "9zEB8ekEtTnQ"
      }
    },
    {
      "cell_type": "markdown",
      "source": [
        "7. (6 балів) Продемонструйте роботу циклу while. Чи можна використовувати в умові циклу булеві значення? Чому?"
      ],
      "metadata": {
        "id": "AlEfFe4Fwv8n"
      }
    },
    {
      "cell_type": "code",
      "source": [
        "n = 0\n",
        "while n != 15:\n",
        "  print(n)\n",
        "  n += 1"
      ],
      "metadata": {
        "id": "kiDSbqo0wwMZ",
        "colab": {
          "base_uri": "https://localhost:8080/"
        },
        "outputId": "00290db1-d438-4c91-bbca-0a19ecde3c0b"
      },
      "execution_count": 27,
      "outputs": [
        {
          "output_type": "stream",
          "name": "stdout",
          "text": [
            "0\n",
            "1\n",
            "2\n",
            "3\n",
            "4\n",
            "5\n",
            "6\n",
            "7\n",
            "8\n",
            "9\n",
            "10\n",
            "11\n",
            "12\n",
            "13\n",
            "14\n"
          ]
        }
      ]
    },
    {
      "cell_type": "markdown",
      "source": [
        "Так булеві значення можна використовувати в умові циклу, наприклад для перевірки якогось значення True або False"
      ],
      "metadata": {
        "id": "h_LVeOmxZpUv"
      }
    },
    {
      "cell_type": "markdown",
      "source": [
        "8. (8 балів) Напишіть програму, яка виведе на екран непарні числа в діапазоні від 0 до 20 включно."
      ],
      "metadata": {
        "id": "J9TkD5_Cx3I1"
      }
    },
    {
      "cell_type": "code",
      "source": [
        "for i in range(0, 21):\n",
        "  if i % 2 != 0:\n",
        "    print(i)"
      ],
      "metadata": {
        "id": "5A1d-qvVx34B",
        "colab": {
          "base_uri": "https://localhost:8080/"
        },
        "outputId": "84b07713-eb38-487a-bd2a-5be62812e63c"
      },
      "execution_count": 24,
      "outputs": [
        {
          "output_type": "stream",
          "name": "stdout",
          "text": [
            "1\n",
            "3\n",
            "5\n",
            "7\n",
            "9\n",
            "11\n",
            "13\n",
            "15\n",
            "17\n",
            "19\n"
          ]
        }
      ]
    },
    {
      "cell_type": "markdown",
      "source": [
        "9. (7 балів) Створіть список з елементами булевого типу або None. Використовуючи цикли, отримайте в результаті список з кортежами, де перший елемент кортежу - індекс(ціле число), а другий елемент - відповідне значення з першого списку.\n",
        "\n",
        "Наприклад, [True, True, None, False] -> [(0, True), (1, True), (2, None), (3, False)]"
      ],
      "metadata": {
        "id": "xN6Kfmqex4NU"
      }
    },
    {
      "cell_type": "code",
      "source": [
        "my_list = [True, True, None, False]\n",
        "print(list(enumerate(my_list)))"
      ],
      "metadata": {
        "id": "YhVlQnNIx405",
        "colab": {
          "base_uri": "https://localhost:8080/"
        },
        "outputId": "d299e072-2065-44c3-b5ca-7827f44a172d"
      },
      "execution_count": 30,
      "outputs": [
        {
          "output_type": "stream",
          "name": "stdout",
          "text": [
            "[(0, True), (1, True), (2, None), (3, False)]\n"
          ]
        }
      ]
    },
    {
      "cell_type": "markdown",
      "source": [
        "10. (10 балів) Створіть словник, де ключі - назви книжок, а значення - їхня кількість у наявності в Вашій міні-бібліотеці. Бібліотека має містити щонайменше 6 книжок (6 пар значень у словнику) і щонайбільше 10 (пар значень). Використовуючи цикли, оновіть словник (не створюйте новий) так, щоби кількість книг у наявності збільшилося на 5 кожної книги. Наприклад,\n",
        "{'It': 3, 'Fault stars': 10, 'Bible': 17, 'Psychological romance': 4, 'Harry Potter': 13} -> {'It': 8, 'Fault stars': 15, 'Bible': 22, 'Psychological romance': 9, 'Harry Potter': 18}"
      ],
      "metadata": {
        "id": "cJNlWxHLx5mW"
      }
    },
    {
      "cell_type": "code",
      "source": [
        "my_dict = {'It': 3, 'Fault stars': 10, 'Bible': 17, 'Psychological romance': 4, 'Harry Potter': 13}\n",
        "for book in my_dict:\n",
        "    my_dict[book] += 5\n",
        "print(my_dict)"
      ],
      "metadata": {
        "id": "pI7I71ao0qh_",
        "colab": {
          "base_uri": "https://localhost:8080/"
        },
        "outputId": "8526bf38-8dde-4e66-a892-b16a0ad92d64"
      },
      "execution_count": 32,
      "outputs": [
        {
          "output_type": "stream",
          "name": "stdout",
          "text": [
            "{'It': 8, 'Fault stars': 15, 'Bible': 22, 'Psychological romance': 9, 'Harry Potter': 18}\n"
          ]
        }
      ]
    },
    {
      "cell_type": "markdown",
      "source": [
        "11. (15 балів) Визначте цілочислену змінну n, що належить проміжку від 4 до 10 включно. Використовуючи цикли, виведіть в консоль наступний патерн.\n",
        "\n",
        "#\n",
        "##\n",
        "###\n",
        "####\n",
        "\n",
        "... #*n\n"
      ],
      "metadata": {
        "id": "qdZA6qi82GBa"
      }
    },
    {
      "cell_type": "code",
      "source": [
        "n = int(input())\n",
        "\n",
        "if n in range(4, 11):\n",
        "  for i in range(n+1):\n",
        "    print('#' * i)\n",
        "else:\n",
        "  print(\"-\")\n"
      ],
      "metadata": {
        "id": "aaHuUQHfx6YO",
        "colab": {
          "base_uri": "https://localhost:8080/"
        },
        "outputId": "2dcda375-d441-4994-ec40-a8935057b2f1"
      },
      "execution_count": 33,
      "outputs": [
        {
          "output_type": "stream",
          "name": "stdout",
          "text": [
            "6\n",
            "\n",
            "#\n",
            "##\n",
            "###\n",
            "####\n",
            "#####\n",
            "######\n"
          ]
        }
      ]
    },
    {
      "cell_type": "markdown",
      "source": [
        "12. (20 балів) Гра \"Нумо вгадай\".\n",
        "Розробіть просту гру, де користувач має вгадати випадкове число від 1 до 100. Для генерації випадкового числа використовуйте функцію random.randint(a, b) (тут a та b включно). Для отримання числа з консолі використовуйте функцію input(), результат якої обовʼязково явно приведіть до типу int.\n",
        "\n",
        "Підказка: використовуйте цикл while та умови if-else, щоб повідомити користувачу піказки (напр. \"Більше\", \"Менше\") поки користувач не вгадає. По завершенню виведіть кількість спроб, які знадобилися для вгадування.\n"
      ],
      "metadata": {
        "id": "XOniyaun74Ed"
      }
    },
    {
      "cell_type": "code",
      "source": [
        "import random\n",
        "generated_number = random.randint(1, 100)\n",
        "user_input = 0\n",
        "\n",
        "while user_input != generated_number:\n",
        "  user_input = int(input())\n",
        "  if user_input == generated_number: break\n",
        "  if user_input < generated_number:\n",
        "    print(\"Більше\")\n",
        "  else:\n",
        "    print(\"Менше\")\n",
        "print(f\"Вітаю, ти вгадав загадане число {generated_number}\")"
      ],
      "metadata": {
        "id": "iomCeUuW73NG",
        "colab": {
          "base_uri": "https://localhost:8080/"
        },
        "outputId": "266be77b-dbbb-4811-e535-455d9e504223"
      },
      "execution_count": 36,
      "outputs": [
        {
          "output_type": "stream",
          "name": "stdout",
          "text": [
            "56\n",
            "Менше\n",
            "23\n",
            "Більше\n",
            "45\n",
            "Більше\n",
            "47\n",
            "Вітаю, ти вгадав загадане число 47\n"
          ]
        }
      ]
    },
    {
      "cell_type": "markdown",
      "source": [
        "# Вітаю! Ви велика(ий) молодець, що впоралась(вся). Похваліть себе та побалуйте чимось приємним. Я Вами пишаюся."
      ],
      "metadata": {
        "id": "jTs-rqOptY2R"
      }
    }
  ]
}